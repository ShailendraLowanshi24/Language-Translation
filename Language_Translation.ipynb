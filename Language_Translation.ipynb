{
  "nbformat": 4,
  "nbformat_minor": 0,
  "metadata": {
    "colab": {
      "name": "Language_Translation.ipynb",
      "provenance": [],
      "collapsed_sections": []
    },
    "kernelspec": {
      "name": "python3",
      "display_name": "Python 3"
    },
    "language_info": {
      "name": "python"
    },
    "accelerator": "GPU",
    "gpuClass": "standard"
  },
  "cells": [
    {
      "cell_type": "code",
      "execution_count": null,
      "metadata": {
        "id": "c7--uFkMKVdG"
      },
      "outputs": [],
      "source": [
        "from tensorflow.keras.models import Model\n",
        "from tensorflow.keras import models\n",
        "from tensorflow.keras.utils import plot_model\n",
        "from tensorflow.keras.layers import Input,LSTM,Dense\n",
        "from sklearn.feature_extraction.text import CountVectorizer\n",
        "import numpy as np\n",
        "import pickle"
      ]
    },
    {
      "cell_type": "code",
      "source": [],
      "metadata": {
        "id": "SkvsFr4vW53H"
      },
      "execution_count": null,
      "outputs": []
    },
    {
      "cell_type": "code",
      "source": [
        "#read dataset file\n",
        "\n",
        "data_path = \"/content/drive/MyDrive/fra-eng/fra.txt\""
      ],
      "metadata": {
        "id": "MjEGLHfxXhun"
      },
      "execution_count": null,
      "outputs": []
    },
    {
      "cell_type": "code",
      "source": [
        "num_samples = 10000\n",
        "latent_dim = 256\n",
        "epochs= 100\n",
        "batch_size = 64"
      ],
      "metadata": {
        "id": "uVi6bLbOltR9"
      },
      "execution_count": null,
      "outputs": []
    },
    {
      "cell_type": "code",
      "source": [
        "#initialize all variables \n",
        "input_texts = []\n",
        "target_texts = []\n",
        "input_characters = set()\n",
        "target_characters = set()\n",
        "with open(data_path,'r',encoding='utf-8') as f:\n",
        "    lines=f.read().split('\\n')\n",
        "for line in lines[: min(num_samples, len(lines)-1)]:\n",
        "    #split input and target by '\\t'=tab\n",
        "    input_text,target_text,_ = line.split('\\t')\n",
        "    #add '\\t' at start and '\\n' at end of text.\n",
        "    target_text='\\t' + target_text + '\\n'\n",
        "    input_texts.append(input_text)\n",
        "    target_texts.append(target_text)\n",
        "    for char in input_text:\n",
        "      if char not in input_characters:\n",
        "        input_characters.add(char)\n",
        "    for char in target_text:\n",
        "      if char not in target_characters:\n",
        "        target_characters.add(char)"
      ],
      "metadata": {
        "id": "hab167iGX5d_"
      },
      "execution_count": null,
      "outputs": []
    },
    {
      "cell_type": "code",
      "source": [
        "len(input_texts)"
      ],
      "metadata": {
        "colab": {
          "base_uri": "https://localhost:8080/"
        },
        "id": "4pzsovwkoH6N",
        "outputId": "a619d60c-8692-4760-a568-13fe0b557ed3"
      },
      "execution_count": null,
      "outputs": [
        {
          "output_type": "execute_result",
          "data": {
            "text/plain": [
              "10000"
            ]
          },
          "metadata": {},
          "execution_count": 5
        }
      ]
    },
    {
      "cell_type": "code",
      "source": [
        "input_characters"
      ],
      "metadata": {
        "colab": {
          "base_uri": "https://localhost:8080/"
        },
        "id": "R6uaIaqXoIQ_",
        "outputId": "5461bb7e-909f-47b1-aa9f-94e54de177ed"
      },
      "execution_count": null,
      "outputs": [
        {
          "output_type": "execute_result",
          "data": {
            "text/plain": [
              "{' ',\n",
              " '!',\n",
              " '\"',\n",
              " '$',\n",
              " '%',\n",
              " '&',\n",
              " \"'\",\n",
              " ',',\n",
              " '-',\n",
              " '.',\n",
              " '0',\n",
              " '1',\n",
              " '2',\n",
              " '3',\n",
              " '5',\n",
              " '7',\n",
              " '8',\n",
              " '9',\n",
              " ':',\n",
              " '?',\n",
              " 'A',\n",
              " 'B',\n",
              " 'C',\n",
              " 'D',\n",
              " 'E',\n",
              " 'F',\n",
              " 'G',\n",
              " 'H',\n",
              " 'I',\n",
              " 'J',\n",
              " 'K',\n",
              " 'L',\n",
              " 'M',\n",
              " 'N',\n",
              " 'O',\n",
              " 'P',\n",
              " 'Q',\n",
              " 'R',\n",
              " 'S',\n",
              " 'T',\n",
              " 'U',\n",
              " 'V',\n",
              " 'W',\n",
              " 'Y',\n",
              " 'a',\n",
              " 'b',\n",
              " 'c',\n",
              " 'd',\n",
              " 'e',\n",
              " 'f',\n",
              " 'g',\n",
              " 'h',\n",
              " 'i',\n",
              " 'j',\n",
              " 'k',\n",
              " 'l',\n",
              " 'm',\n",
              " 'n',\n",
              " 'o',\n",
              " 'p',\n",
              " 'q',\n",
              " 'r',\n",
              " 's',\n",
              " 't',\n",
              " 'u',\n",
              " 'v',\n",
              " 'w',\n",
              " 'x',\n",
              " 'y',\n",
              " 'z',\n",
              " 'é'}"
            ]
          },
          "metadata": {},
          "execution_count": 6
        }
      ]
    },
    {
      "cell_type": "code",
      "source": [
        "input_characters = sorted(list(input_characters))\n",
        "target_characters = sorted(list(target_characters))\n",
        "num_encoder_tokens = len(input_characters)\n",
        "num_decoder_tokens = len(target_characters)\n",
        "\n",
        "max_encoder_seq_length = max([len(txt) for txt in input_texts])\n",
        "max_decoder_seq_length = max([len(txt) for txt in target_texts])"
      ],
      "metadata": {
        "id": "p4ZYkVshZOnp"
      },
      "execution_count": null,
      "outputs": []
    },
    {
      "cell_type": "code",
      "source": [
        "print('Number of samples:', len(input_texts))\n",
        "print('Number of unique input tokens:', num_encoder_tokens)\n",
        "print('Number of unique output tokens:', num_decoder_tokens)\n",
        "print('Max sequence length for inputs:', max_encoder_seq_length)\n",
        "print('Max sequence length for outputs:', max_decoder_seq_length)"
      ],
      "metadata": {
        "colab": {
          "base_uri": "https://localhost:8080/"
        },
        "id": "5C-V1Cgcph0w",
        "outputId": "5cad017c-cc55-446c-f9ad-2768535c69b6"
      },
      "execution_count": null,
      "outputs": [
        {
          "output_type": "stream",
          "name": "stdout",
          "text": [
            "Number of samples: 10000\n",
            "Number of unique input tokens: 71\n",
            "Number of unique output tokens: 93\n",
            "Max sequence length for inputs: 15\n",
            "Max sequence length for outputs: 59\n"
          ]
        }
      ]
    },
    {
      "cell_type": "code",
      "source": [
        "input_token_index = dict([(char,i) for i, char in enumerate(input_characters)])\n",
        "target_token_index = dict([(char,i) for i, char in enumerate(target_characters)])"
      ],
      "metadata": {
        "id": "4bTsiNKFph3d"
      },
      "execution_count": null,
      "outputs": []
    },
    {
      "cell_type": "code",
      "source": [
        "input_token_index #target_token_index"
      ],
      "metadata": {
        "colab": {
          "base_uri": "https://localhost:8080/"
        },
        "id": "tTpImr6_ph8_",
        "outputId": "64b265f6-c3e6-44eb-daf2-46f82ea573ce"
      },
      "execution_count": null,
      "outputs": [
        {
          "output_type": "execute_result",
          "data": {
            "text/plain": [
              "{' ': 0,\n",
              " '!': 1,\n",
              " '\"': 2,\n",
              " '$': 3,\n",
              " '%': 4,\n",
              " '&': 5,\n",
              " \"'\": 6,\n",
              " ',': 7,\n",
              " '-': 8,\n",
              " '.': 9,\n",
              " '0': 10,\n",
              " '1': 11,\n",
              " '2': 12,\n",
              " '3': 13,\n",
              " '5': 14,\n",
              " '7': 15,\n",
              " '8': 16,\n",
              " '9': 17,\n",
              " ':': 18,\n",
              " '?': 19,\n",
              " 'A': 20,\n",
              " 'B': 21,\n",
              " 'C': 22,\n",
              " 'D': 23,\n",
              " 'E': 24,\n",
              " 'F': 25,\n",
              " 'G': 26,\n",
              " 'H': 27,\n",
              " 'I': 28,\n",
              " 'J': 29,\n",
              " 'K': 30,\n",
              " 'L': 31,\n",
              " 'M': 32,\n",
              " 'N': 33,\n",
              " 'O': 34,\n",
              " 'P': 35,\n",
              " 'Q': 36,\n",
              " 'R': 37,\n",
              " 'S': 38,\n",
              " 'T': 39,\n",
              " 'U': 40,\n",
              " 'V': 41,\n",
              " 'W': 42,\n",
              " 'Y': 43,\n",
              " 'a': 44,\n",
              " 'b': 45,\n",
              " 'c': 46,\n",
              " 'd': 47,\n",
              " 'e': 48,\n",
              " 'f': 49,\n",
              " 'g': 50,\n",
              " 'h': 51,\n",
              " 'i': 52,\n",
              " 'j': 53,\n",
              " 'k': 54,\n",
              " 'l': 55,\n",
              " 'm': 56,\n",
              " 'n': 57,\n",
              " 'o': 58,\n",
              " 'p': 59,\n",
              " 'q': 60,\n",
              " 'r': 61,\n",
              " 's': 62,\n",
              " 't': 63,\n",
              " 'u': 64,\n",
              " 'v': 65,\n",
              " 'w': 66,\n",
              " 'x': 67,\n",
              " 'y': 68,\n",
              " 'z': 69,\n",
              " 'é': 70}"
            ]
          },
          "metadata": {},
          "execution_count": 10
        }
      ]
    },
    {
      "cell_type": "code",
      "source": [
        "encoder_input_data = np.zeros(\n",
        "    (len(input_texts), max_encoder_seq_length, num_encoder_tokens),\n",
        "    dtype='float32')\n",
        "decoder_input_data = np.zeros(\n",
        "    (len(input_texts), max_decoder_seq_length, num_decoder_tokens),\n",
        "    dtype='float32')\n",
        "decoder_target_data = np.zeros(\n",
        "    (len(input_texts), max_decoder_seq_length, num_decoder_tokens),\n",
        "    dtype='float32')\n"
      ],
      "metadata": {
        "id": "QMoLTq8iph_4"
      },
      "execution_count": null,
      "outputs": []
    },
    {
      "cell_type": "code",
      "source": [
        "for i, (input_text, target_text) in enumerate(zip(input_texts, target_texts)):\n",
        "  for t, char in enumerate(input_text):\n",
        "    encoder_input_data[i, t, input_token_index[char]] = 1\n",
        "  encoder_input_data[i, t + 1:, input_token_index[' ']] = 1\n",
        "  for t, char in enumerate(target_text):\n",
        "    decoder_input_data[i, t, target_token_index[char]] = 1\n",
        "    if t > 0:\n",
        "      decoder_target_data[i, t - 1, target_token_index[char]] = 1\n",
        "  decoder_input_data[i, t + 1:, target_token_index[' ']] = 1\n",
        "  decoder_target_data[i, t:, target_token_index[' ']] = 1"
      ],
      "metadata": {
        "id": "tbhzlN2-piCg"
      },
      "execution_count": null,
      "outputs": []
    },
    {
      "cell_type": "code",
      "source": [
        "encoder_input_data[0].shape"
      ],
      "metadata": {
        "colab": {
          "base_uri": "https://localhost:8080/"
        },
        "id": "NjYYQJPbpiHF",
        "outputId": "357dbed1-280d-4031-efac-b05d727a9eed"
      },
      "execution_count": null,
      "outputs": [
        {
          "output_type": "execute_result",
          "data": {
            "text/plain": [
              "(15, 71)"
            ]
          },
          "metadata": {},
          "execution_count": 13
        }
      ]
    },
    {
      "cell_type": "code",
      "source": [
        "encoder_inputs = Input(shape=(None, num_encoder_tokens))\n",
        "encoder = LSTM(latent_dim, return_state=True)\n",
        "encoder_outputs, state_h, state_c = encoder(encoder_inputs)\n",
        "encoder_states = [state_h, state_c]"
      ],
      "metadata": {
        "id": "lNbQML8CwbpL"
      },
      "execution_count": null,
      "outputs": []
    },
    {
      "cell_type": "code",
      "source": [
        "decoder_inputs = Input(shape=(None, num_decoder_tokens))\n",
        "decoder_lstm = LSTM(latent_dim, return_sequences= True, return_state=True)\n",
        "decoder_outputs, _, _ = decoder_lstm(decoder_inputs,\n",
        "                                     initial_state= encoder_states)\n",
        "decoder_dense = Dense(num_decoder_tokens, activation='softmax')\n",
        "decoder_outputs = decoder_dense(decoder_outputs)"
      ],
      "metadata": {
        "id": "66yD71bm6RCI"
      },
      "execution_count": null,
      "outputs": []
    },
    {
      "cell_type": "code",
      "source": [
        "model = Model([encoder_inputs, decoder_inputs], decoder_outputs)"
      ],
      "metadata": {
        "id": "KXuZXQnV7UtH"
      },
      "execution_count": null,
      "outputs": []
    },
    {
      "cell_type": "code",
      "source": [
        "model.compile(optimizer='rmsprop', loss='categorical_crossentropy',metrics=['accuracy'])"
      ],
      "metadata": {
        "id": "Lx9OaymuZ2lJ"
      },
      "execution_count": null,
      "outputs": []
    },
    {
      "cell_type": "code",
      "source": [
        "model.fit([encoder_input_data, decoder_input_data], decoder_target_data,\n",
        "          batch_size= batch_size,\n",
        "          epochs = epochs,\n",
        "          validation_split=0.2)"
      ],
      "metadata": {
        "colab": {
          "base_uri": "https://localhost:8080/"
        },
        "id": "BmK3w8hcZ4X_",
        "outputId": "57e5a25d-ca69-44c2-aab2-0050661c8168"
      },
      "execution_count": null,
      "outputs": [
        {
          "output_type": "stream",
          "name": "stdout",
          "text": [
            "Epoch 1/100\n",
            "125/125 [==============================] - 10s 21ms/step - loss: 1.1259 - accuracy: 0.7370 - val_loss: 1.0271 - val_accuracy: 0.7165\n",
            "Epoch 2/100\n",
            "125/125 [==============================] - 2s 12ms/step - loss: 0.8047 - accuracy: 0.7825 - val_loss: 0.8260 - val_accuracy: 0.7698\n",
            "Epoch 3/100\n",
            "125/125 [==============================] - 2s 12ms/step - loss: 0.6404 - accuracy: 0.8183 - val_loss: 0.6850 - val_accuracy: 0.7971\n",
            "Epoch 4/100\n",
            "125/125 [==============================] - 2s 12ms/step - loss: 0.5860 - accuracy: 0.8313 - val_loss: 0.6322 - val_accuracy: 0.8165\n",
            "Epoch 5/100\n",
            "125/125 [==============================] - 2s 12ms/step - loss: 0.5239 - accuracy: 0.8470 - val_loss: 0.5867 - val_accuracy: 0.8272\n",
            "Epoch 6/100\n",
            "125/125 [==============================] - 2s 12ms/step - loss: 0.4890 - accuracy: 0.8564 - val_loss: 0.5654 - val_accuracy: 0.8332\n",
            "Epoch 7/100\n",
            "125/125 [==============================] - 2s 12ms/step - loss: 0.4616 - accuracy: 0.8635 - val_loss: 0.5365 - val_accuracy: 0.8426\n",
            "Epoch 8/100\n",
            "125/125 [==============================] - 2s 12ms/step - loss: 0.4386 - accuracy: 0.8699 - val_loss: 0.5178 - val_accuracy: 0.8471\n",
            "Epoch 9/100\n",
            "125/125 [==============================] - 2s 12ms/step - loss: 0.4186 - accuracy: 0.8753 - val_loss: 0.5069 - val_accuracy: 0.8503\n",
            "Epoch 10/100\n",
            "125/125 [==============================] - 2s 12ms/step - loss: 0.4003 - accuracy: 0.8803 - val_loss: 0.4875 - val_accuracy: 0.8570\n",
            "Epoch 11/100\n",
            "125/125 [==============================] - 2s 12ms/step - loss: 0.3841 - accuracy: 0.8849 - val_loss: 0.4792 - val_accuracy: 0.8584\n",
            "Epoch 12/100\n",
            "125/125 [==============================] - 2s 12ms/step - loss: 0.3684 - accuracy: 0.8892 - val_loss: 0.4755 - val_accuracy: 0.8593\n",
            "Epoch 13/100\n",
            "125/125 [==============================] - 2s 12ms/step - loss: 0.3544 - accuracy: 0.8935 - val_loss: 0.4637 - val_accuracy: 0.8637\n",
            "Epoch 14/100\n",
            "125/125 [==============================] - 2s 12ms/step - loss: 0.3412 - accuracy: 0.8974 - val_loss: 0.4562 - val_accuracy: 0.8666\n",
            "Epoch 15/100\n",
            "125/125 [==============================] - 2s 13ms/step - loss: 0.3285 - accuracy: 0.9008 - val_loss: 0.4535 - val_accuracy: 0.8673\n",
            "Epoch 16/100\n",
            "125/125 [==============================] - 2s 12ms/step - loss: 0.3164 - accuracy: 0.9044 - val_loss: 0.4496 - val_accuracy: 0.8696\n",
            "Epoch 17/100\n",
            "125/125 [==============================] - 2s 12ms/step - loss: 0.3047 - accuracy: 0.9081 - val_loss: 0.4465 - val_accuracy: 0.8703\n",
            "Epoch 18/100\n",
            "125/125 [==============================] - 2s 12ms/step - loss: 0.2938 - accuracy: 0.9114 - val_loss: 0.4405 - val_accuracy: 0.8721\n",
            "Epoch 19/100\n",
            "125/125 [==============================] - 2s 12ms/step - loss: 0.2833 - accuracy: 0.9144 - val_loss: 0.4415 - val_accuracy: 0.8721\n",
            "Epoch 20/100\n",
            "125/125 [==============================] - 2s 13ms/step - loss: 0.2734 - accuracy: 0.9173 - val_loss: 0.4444 - val_accuracy: 0.8723\n",
            "Epoch 21/100\n",
            "125/125 [==============================] - 2s 13ms/step - loss: 0.2633 - accuracy: 0.9204 - val_loss: 0.4450 - val_accuracy: 0.8725\n",
            "Epoch 22/100\n",
            "125/125 [==============================] - 2s 13ms/step - loss: 0.2547 - accuracy: 0.9228 - val_loss: 0.4415 - val_accuracy: 0.8747\n",
            "Epoch 23/100\n",
            "125/125 [==============================] - 2s 13ms/step - loss: 0.2459 - accuracy: 0.9255 - val_loss: 0.4413 - val_accuracy: 0.8745\n",
            "Epoch 24/100\n",
            "125/125 [==============================] - 2s 13ms/step - loss: 0.2374 - accuracy: 0.9280 - val_loss: 0.4460 - val_accuracy: 0.8742\n",
            "Epoch 25/100\n",
            "125/125 [==============================] - 2s 13ms/step - loss: 0.2296 - accuracy: 0.9304 - val_loss: 0.4464 - val_accuracy: 0.8745\n",
            "Epoch 26/100\n",
            "125/125 [==============================] - 2s 13ms/step - loss: 0.2222 - accuracy: 0.9324 - val_loss: 0.4529 - val_accuracy: 0.8748\n",
            "Epoch 27/100\n",
            "125/125 [==============================] - 2s 13ms/step - loss: 0.2143 - accuracy: 0.9350 - val_loss: 0.4516 - val_accuracy: 0.8753\n",
            "Epoch 28/100\n",
            "125/125 [==============================] - 2s 12ms/step - loss: 0.2073 - accuracy: 0.9371 - val_loss: 0.4559 - val_accuracy: 0.8761\n",
            "Epoch 29/100\n",
            "125/125 [==============================] - 2s 13ms/step - loss: 0.2007 - accuracy: 0.9392 - val_loss: 0.4585 - val_accuracy: 0.8755\n",
            "Epoch 30/100\n",
            "125/125 [==============================] - 2s 12ms/step - loss: 0.1945 - accuracy: 0.9409 - val_loss: 0.4609 - val_accuracy: 0.8755\n",
            "Epoch 31/100\n",
            "125/125 [==============================] - 2s 12ms/step - loss: 0.1883 - accuracy: 0.9427 - val_loss: 0.4659 - val_accuracy: 0.8749\n",
            "Epoch 32/100\n",
            "125/125 [==============================] - 2s 13ms/step - loss: 0.1822 - accuracy: 0.9445 - val_loss: 0.4654 - val_accuracy: 0.8764\n",
            "Epoch 33/100\n",
            "125/125 [==============================] - 2s 12ms/step - loss: 0.1764 - accuracy: 0.9459 - val_loss: 0.4731 - val_accuracy: 0.8755\n",
            "Epoch 34/100\n",
            "125/125 [==============================] - 2s 12ms/step - loss: 0.1713 - accuracy: 0.9475 - val_loss: 0.4765 - val_accuracy: 0.8758\n",
            "Epoch 35/100\n",
            "125/125 [==============================] - 2s 12ms/step - loss: 0.1657 - accuracy: 0.9491 - val_loss: 0.4777 - val_accuracy: 0.8769\n",
            "Epoch 36/100\n",
            "125/125 [==============================] - 2s 12ms/step - loss: 0.1609 - accuracy: 0.9505 - val_loss: 0.4827 - val_accuracy: 0.8762\n",
            "Epoch 37/100\n",
            "125/125 [==============================] - 2s 12ms/step - loss: 0.1565 - accuracy: 0.9522 - val_loss: 0.4887 - val_accuracy: 0.8759\n",
            "Epoch 38/100\n",
            "125/125 [==============================] - 2s 12ms/step - loss: 0.1514 - accuracy: 0.9537 - val_loss: 0.4969 - val_accuracy: 0.8748\n",
            "Epoch 39/100\n",
            "125/125 [==============================] - 2s 12ms/step - loss: 0.1474 - accuracy: 0.9546 - val_loss: 0.4979 - val_accuracy: 0.8763\n",
            "Epoch 40/100\n",
            "125/125 [==============================] - 2s 12ms/step - loss: 0.1427 - accuracy: 0.9562 - val_loss: 0.5037 - val_accuracy: 0.8759\n",
            "Epoch 41/100\n",
            "125/125 [==============================] - 2s 12ms/step - loss: 0.1394 - accuracy: 0.9571 - val_loss: 0.5059 - val_accuracy: 0.8746\n",
            "Epoch 42/100\n",
            "125/125 [==============================] - 1s 12ms/step - loss: 0.1353 - accuracy: 0.9582 - val_loss: 0.5152 - val_accuracy: 0.8753\n",
            "Epoch 43/100\n",
            "125/125 [==============================] - 2s 12ms/step - loss: 0.1313 - accuracy: 0.9594 - val_loss: 0.5161 - val_accuracy: 0.8755\n",
            "Epoch 44/100\n",
            "125/125 [==============================] - 2s 12ms/step - loss: 0.1277 - accuracy: 0.9606 - val_loss: 0.5208 - val_accuracy: 0.8752\n",
            "Epoch 45/100\n",
            "125/125 [==============================] - 2s 12ms/step - loss: 0.1247 - accuracy: 0.9615 - val_loss: 0.5252 - val_accuracy: 0.8755\n",
            "Epoch 46/100\n",
            "125/125 [==============================] - 2s 12ms/step - loss: 0.1208 - accuracy: 0.9627 - val_loss: 0.5344 - val_accuracy: 0.8745\n",
            "Epoch 47/100\n",
            "125/125 [==============================] - 2s 12ms/step - loss: 0.1179 - accuracy: 0.9634 - val_loss: 0.5354 - val_accuracy: 0.8751\n",
            "Epoch 48/100\n",
            "125/125 [==============================] - 2s 12ms/step - loss: 0.1146 - accuracy: 0.9644 - val_loss: 0.5436 - val_accuracy: 0.8740\n",
            "Epoch 49/100\n",
            "125/125 [==============================] - 2s 12ms/step - loss: 0.1120 - accuracy: 0.9650 - val_loss: 0.5477 - val_accuracy: 0.8740\n",
            "Epoch 50/100\n",
            "125/125 [==============================] - 2s 12ms/step - loss: 0.1092 - accuracy: 0.9659 - val_loss: 0.5506 - val_accuracy: 0.8742\n",
            "Epoch 51/100\n",
            "125/125 [==============================] - 2s 12ms/step - loss: 0.1061 - accuracy: 0.9667 - val_loss: 0.5602 - val_accuracy: 0.8730\n",
            "Epoch 52/100\n",
            "125/125 [==============================] - 2s 12ms/step - loss: 0.1038 - accuracy: 0.9674 - val_loss: 0.5595 - val_accuracy: 0.8743\n",
            "Epoch 53/100\n",
            "125/125 [==============================] - 2s 12ms/step - loss: 0.1012 - accuracy: 0.9683 - val_loss: 0.5669 - val_accuracy: 0.8748\n",
            "Epoch 54/100\n",
            "125/125 [==============================] - 2s 12ms/step - loss: 0.0985 - accuracy: 0.9691 - val_loss: 0.5653 - val_accuracy: 0.8750\n",
            "Epoch 55/100\n",
            "125/125 [==============================] - 2s 12ms/step - loss: 0.0960 - accuracy: 0.9698 - val_loss: 0.5748 - val_accuracy: 0.8743\n",
            "Epoch 56/100\n",
            "125/125 [==============================] - 2s 12ms/step - loss: 0.0942 - accuracy: 0.9703 - val_loss: 0.5786 - val_accuracy: 0.8747\n",
            "Epoch 57/100\n",
            "125/125 [==============================] - 2s 12ms/step - loss: 0.0917 - accuracy: 0.9711 - val_loss: 0.5878 - val_accuracy: 0.8741\n",
            "Epoch 58/100\n",
            "125/125 [==============================] - 2s 12ms/step - loss: 0.0897 - accuracy: 0.9716 - val_loss: 0.5897 - val_accuracy: 0.8735\n",
            "Epoch 59/100\n",
            "125/125 [==============================] - 2s 12ms/step - loss: 0.0877 - accuracy: 0.9722 - val_loss: 0.5973 - val_accuracy: 0.8742\n",
            "Epoch 60/100\n",
            "125/125 [==============================] - 2s 12ms/step - loss: 0.0857 - accuracy: 0.9727 - val_loss: 0.6002 - val_accuracy: 0.8742\n",
            "Epoch 61/100\n",
            "125/125 [==============================] - 2s 12ms/step - loss: 0.0837 - accuracy: 0.9734 - val_loss: 0.6023 - val_accuracy: 0.8739\n",
            "Epoch 62/100\n",
            "125/125 [==============================] - 2s 12ms/step - loss: 0.0821 - accuracy: 0.9737 - val_loss: 0.6130 - val_accuracy: 0.8734\n",
            "Epoch 63/100\n",
            "125/125 [==============================] - 2s 12ms/step - loss: 0.0802 - accuracy: 0.9743 - val_loss: 0.6132 - val_accuracy: 0.8736\n",
            "Epoch 64/100\n",
            "125/125 [==============================] - 2s 13ms/step - loss: 0.0782 - accuracy: 0.9749 - val_loss: 0.6223 - val_accuracy: 0.8732\n",
            "Epoch 65/100\n",
            "125/125 [==============================] - 2s 12ms/step - loss: 0.0766 - accuracy: 0.9754 - val_loss: 0.6211 - val_accuracy: 0.8743\n",
            "Epoch 66/100\n",
            "125/125 [==============================] - 2s 12ms/step - loss: 0.0750 - accuracy: 0.9759 - val_loss: 0.6273 - val_accuracy: 0.8735\n",
            "Epoch 67/100\n",
            "125/125 [==============================] - 2s 12ms/step - loss: 0.0734 - accuracy: 0.9762 - val_loss: 0.6349 - val_accuracy: 0.8731\n",
            "Epoch 68/100\n",
            "125/125 [==============================] - 2s 12ms/step - loss: 0.0718 - accuracy: 0.9767 - val_loss: 0.6397 - val_accuracy: 0.8727\n",
            "Epoch 69/100\n",
            "125/125 [==============================] - 2s 12ms/step - loss: 0.0709 - accuracy: 0.9770 - val_loss: 0.6440 - val_accuracy: 0.8730\n",
            "Epoch 70/100\n",
            "125/125 [==============================] - 2s 12ms/step - loss: 0.0691 - accuracy: 0.9775 - val_loss: 0.6505 - val_accuracy: 0.8722\n",
            "Epoch 71/100\n",
            "125/125 [==============================] - 2s 12ms/step - loss: 0.0676 - accuracy: 0.9780 - val_loss: 0.6489 - val_accuracy: 0.8735\n",
            "Epoch 72/100\n",
            "125/125 [==============================] - 2s 12ms/step - loss: 0.0665 - accuracy: 0.9783 - val_loss: 0.6545 - val_accuracy: 0.8726\n",
            "Epoch 73/100\n",
            "125/125 [==============================] - 2s 12ms/step - loss: 0.0656 - accuracy: 0.9782 - val_loss: 0.6598 - val_accuracy: 0.8720\n",
            "Epoch 74/100\n",
            "125/125 [==============================] - 2s 12ms/step - loss: 0.0638 - accuracy: 0.9788 - val_loss: 0.6684 - val_accuracy: 0.8722\n",
            "Epoch 75/100\n",
            "125/125 [==============================] - 2s 12ms/step - loss: 0.0624 - accuracy: 0.9793 - val_loss: 0.6747 - val_accuracy: 0.8709\n",
            "Epoch 76/100\n",
            "125/125 [==============================] - 2s 13ms/step - loss: 0.0617 - accuracy: 0.9794 - val_loss: 0.6760 - val_accuracy: 0.8717\n",
            "Epoch 77/100\n",
            "125/125 [==============================] - 2s 12ms/step - loss: 0.0600 - accuracy: 0.9800 - val_loss: 0.6818 - val_accuracy: 0.8711\n",
            "Epoch 78/100\n",
            "125/125 [==============================] - 2s 12ms/step - loss: 0.0592 - accuracy: 0.9802 - val_loss: 0.6876 - val_accuracy: 0.8714\n",
            "Epoch 79/100\n",
            "125/125 [==============================] - 2s 13ms/step - loss: 0.0585 - accuracy: 0.9805 - val_loss: 0.6905 - val_accuracy: 0.8707\n",
            "Epoch 80/100\n",
            "125/125 [==============================] - 2s 13ms/step - loss: 0.0576 - accuracy: 0.9806 - val_loss: 0.6895 - val_accuracy: 0.8718\n",
            "Epoch 81/100\n",
            "125/125 [==============================] - 2s 12ms/step - loss: 0.0565 - accuracy: 0.9809 - val_loss: 0.6964 - val_accuracy: 0.8714\n",
            "Epoch 82/100\n",
            "125/125 [==============================] - 2s 12ms/step - loss: 0.0555 - accuracy: 0.9811 - val_loss: 0.6967 - val_accuracy: 0.8716\n",
            "Epoch 83/100\n",
            "125/125 [==============================] - 2s 12ms/step - loss: 0.0548 - accuracy: 0.9812 - val_loss: 0.7039 - val_accuracy: 0.8717\n",
            "Epoch 84/100\n",
            "125/125 [==============================] - 2s 12ms/step - loss: 0.0538 - accuracy: 0.9817 - val_loss: 0.7090 - val_accuracy: 0.8714\n",
            "Epoch 85/100\n",
            "125/125 [==============================] - 2s 12ms/step - loss: 0.0530 - accuracy: 0.9820 - val_loss: 0.7196 - val_accuracy: 0.8693\n",
            "Epoch 86/100\n",
            "125/125 [==============================] - 2s 13ms/step - loss: 0.0518 - accuracy: 0.9823 - val_loss: 0.7165 - val_accuracy: 0.8701\n",
            "Epoch 87/100\n",
            "125/125 [==============================] - 2s 12ms/step - loss: 0.0515 - accuracy: 0.9822 - val_loss: 0.7229 - val_accuracy: 0.8711\n",
            "Epoch 88/100\n",
            "125/125 [==============================] - 2s 12ms/step - loss: 0.0504 - accuracy: 0.9827 - val_loss: 0.7190 - val_accuracy: 0.8715\n",
            "Epoch 89/100\n",
            "125/125 [==============================] - 2s 12ms/step - loss: 0.0498 - accuracy: 0.9827 - val_loss: 0.7245 - val_accuracy: 0.8707\n",
            "Epoch 90/100\n",
            "125/125 [==============================] - 2s 12ms/step - loss: 0.0491 - accuracy: 0.9830 - val_loss: 0.7291 - val_accuracy: 0.8711\n",
            "Epoch 91/100\n",
            "125/125 [==============================] - 2s 12ms/step - loss: 0.0484 - accuracy: 0.9832 - val_loss: 0.7319 - val_accuracy: 0.8714\n",
            "Epoch 92/100\n",
            "125/125 [==============================] - 2s 12ms/step - loss: 0.0476 - accuracy: 0.9833 - val_loss: 0.7424 - val_accuracy: 0.8706\n",
            "Epoch 93/100\n",
            "125/125 [==============================] - 2s 12ms/step - loss: 0.0473 - accuracy: 0.9836 - val_loss: 0.7411 - val_accuracy: 0.8705\n",
            "Epoch 94/100\n",
            "125/125 [==============================] - 2s 12ms/step - loss: 0.0467 - accuracy: 0.9837 - val_loss: 0.7428 - val_accuracy: 0.8701\n",
            "Epoch 95/100\n",
            "125/125 [==============================] - 2s 12ms/step - loss: 0.0462 - accuracy: 0.9838 - val_loss: 0.7444 - val_accuracy: 0.8706\n",
            "Epoch 96/100\n",
            "125/125 [==============================] - 2s 12ms/step - loss: 0.0454 - accuracy: 0.9841 - val_loss: 0.7428 - val_accuracy: 0.8701\n",
            "Epoch 97/100\n",
            "125/125 [==============================] - 2s 12ms/step - loss: 0.0450 - accuracy: 0.9841 - val_loss: 0.7528 - val_accuracy: 0.8700\n",
            "Epoch 98/100\n",
            "125/125 [==============================] - 2s 12ms/step - loss: 0.0446 - accuracy: 0.9840 - val_loss: 0.7551 - val_accuracy: 0.8703\n",
            "Epoch 99/100\n",
            "125/125 [==============================] - 2s 12ms/step - loss: 0.0438 - accuracy: 0.9844 - val_loss: 0.7559 - val_accuracy: 0.8708\n",
            "Epoch 100/100\n",
            "125/125 [==============================] - 2s 12ms/step - loss: 0.0436 - accuracy: 0.9844 - val_loss: 0.7622 - val_accuracy: 0.8700\n"
          ]
        },
        {
          "output_type": "execute_result",
          "data": {
            "text/plain": [
              "<keras.callbacks.History at 0x7f58d051ef90>"
            ]
          },
          "metadata": {},
          "execution_count": 18
        }
      ]
    },
    {
      "cell_type": "code",
      "source": [
        "model.save(\"Language_translation_s2s\")"
      ],
      "metadata": {
        "colab": {
          "base_uri": "https://localhost:8080/"
        },
        "id": "CjVPH6ltZ6dM",
        "outputId": "675ce929-26fc-4a61-9ca9-fd27f711dd40"
      },
      "execution_count": null,
      "outputs": [
        {
          "output_type": "stream",
          "name": "stderr",
          "text": [
            "WARNING:absl:Found untraced functions such as lstm_cell_layer_call_fn, lstm_cell_layer_call_and_return_conditional_losses, lstm_cell_1_layer_call_fn, lstm_cell_1_layer_call_and_return_conditional_losses while saving (showing 4 of 4). These functions will not be directly callable after loading.\n",
            "WARNING:absl:<keras.layers.recurrent.LSTMCell object at 0x7f594f8c31d0> has the same name 'LSTMCell' as a built-in Keras object. Consider renaming <class 'keras.layers.recurrent.LSTMCell'> to avoid naming conflicts when loading with `tf.keras.models.load_model`. If renaming is not possible, pass the object in the `custom_objects` parameter of the load function.\n",
            "WARNING:absl:<keras.layers.recurrent.LSTMCell object at 0x7f58d068dc50> has the same name 'LSTMCell' as a built-in Keras object. Consider renaming <class 'keras.layers.recurrent.LSTMCell'> to avoid naming conflicts when loading with `tf.keras.models.load_model`. If renaming is not possible, pass the object in the `custom_objects` parameter of the load function.\n"
          ]
        }
      ]
    },
    {
      "cell_type": "code",
      "source": [
        "/content/drive/MyDrive/fra-eng"
      ],
      "metadata": {
        "id": "yXFHbzxubkdJ"
      },
      "execution_count": null,
      "outputs": []
    },
    {
      "cell_type": "code",
      "source": [
        "model.save(\"/content/drive/MyDrive/fra-eng/Language_translation_s2s\")"
      ],
      "metadata": {
        "colab": {
          "base_uri": "https://localhost:8080/"
        },
        "id": "pnLuTSsHbv2S",
        "outputId": "11103825-00c1-49c2-9bd3-dbd47ae4ddbc"
      },
      "execution_count": null,
      "outputs": [
        {
          "output_type": "stream",
          "name": "stderr",
          "text": [
            "WARNING:absl:Found untraced functions such as lstm_cell_layer_call_fn, lstm_cell_layer_call_and_return_conditional_losses, lstm_cell_1_layer_call_fn, lstm_cell_1_layer_call_and_return_conditional_losses while saving (showing 4 of 4). These functions will not be directly callable after loading.\n",
            "WARNING:absl:<keras.layers.recurrent.LSTMCell object at 0x7f594f8c31d0> has the same name 'LSTMCell' as a built-in Keras object. Consider renaming <class 'keras.layers.recurrent.LSTMCell'> to avoid naming conflicts when loading with `tf.keras.models.load_model`. If renaming is not possible, pass the object in the `custom_objects` parameter of the load function.\n",
            "WARNING:absl:<keras.layers.recurrent.LSTMCell object at 0x7f58d068dc50> has the same name 'LSTMCell' as a built-in Keras object. Consider renaming <class 'keras.layers.recurrent.LSTMCell'> to avoid naming conflicts when loading with `tf.keras.models.load_model`. If renaming is not possible, pass the object in the `custom_objects` parameter of the load function.\n"
          ]
        }
      ]
    },
    {
      "cell_type": "code",
      "source": [
        "#summary and model plot\n",
        "model.summary()"
      ],
      "metadata": {
        "colab": {
          "base_uri": "https://localhost:8080/"
        },
        "id": "0x76uHXibysE",
        "outputId": "a1eabc19-230d-4e27-9a75-3a0f29175170"
      },
      "execution_count": null,
      "outputs": [
        {
          "output_type": "stream",
          "name": "stdout",
          "text": [
            "Model: \"model\"\n",
            "__________________________________________________________________________________________________\n",
            " Layer (type)                   Output Shape         Param #     Connected to                     \n",
            "==================================================================================================\n",
            " input_1 (InputLayer)           [(None, None, 71)]   0           []                               \n",
            "                                                                                                  \n",
            " input_2 (InputLayer)           [(None, None, 93)]   0           []                               \n",
            "                                                                                                  \n",
            " lstm (LSTM)                    [(None, 256),        335872      ['input_1[0][0]']                \n",
            "                                 (None, 256),                                                     \n",
            "                                 (None, 256)]                                                     \n",
            "                                                                                                  \n",
            " lstm_1 (LSTM)                  [(None, None, 256),  358400      ['input_2[0][0]',                \n",
            "                                 (None, 256),                     'lstm[0][1]',                   \n",
            "                                 (None, 256)]                     'lstm[0][2]']                   \n",
            "                                                                                                  \n",
            " dense (Dense)                  (None, None, 93)     23901       ['lstm_1[0][0]']                 \n",
            "                                                                                                  \n",
            "==================================================================================================\n",
            "Total params: 718,173\n",
            "Trainable params: 718,173\n",
            "Non-trainable params: 0\n",
            "__________________________________________________________________________________________________\n"
          ]
        }
      ]
    },
    {
      "cell_type": "code",
      "source": [
        "plot_model(model, to_file='Model_plot.png', show_shapes=True, show_layer_names=True)"
      ],
      "metadata": {
        "colab": {
          "base_uri": "https://localhost:8080/",
          "height": 391
        },
        "id": "byeudYJ4cRzm",
        "outputId": "8b8e1833-2827-44fe-9752-dc14c85a4494"
      },
      "execution_count": null,
      "outputs": [
        {
          "output_type": "execute_result",
          "data": {
            "image/png": "[encoded data removed]",
            "text/plain": [
              "<IPython.core.display.Image object>"
            ]
          },
          "metadata": {},
          "execution_count": 23
        }
      ]
    },
    {
      "cell_type": "code",
      "source": [
        "encoder_model = Model(encoder_inputs, encoder_states)\n",
        "\n",
        "decoder_state_input_h = Input(shape=(latent_dim,))\n",
        "decoder_state_input_c = Input(shape=(latent_dim,))\n",
        "decoder_states_inputs = [decoder_state_input_h, decoder_state_input_c]\n",
        "decoder_outputs, state_h, state_c = decoder_lstm(\n",
        "    decoder_inputs, initial_state=decoder_states_inputs)\n",
        "decoder_states = [state_h, state_c]\n",
        "decoder_outputs = decoder_dense(decoder_outputs)\n",
        "decoder_model = Model(\n",
        "    [decoder_inputs] + decoder_states_inputs,\n",
        "    [decoder_outputs] + decoder_states)\n",
        "\n",
        "#Reverse-lookup token index to decode sequence back \n",
        "reverse_input_char_index = dict(\n",
        "    (i,char) for char , i in inpu_token_index.items())\n",
        "reverse_target_char_index = dict(\n",
        "    (i,char) for char, i in target_token_index.items())\n",
        "\n",
        "\n",
        "def decode_sequence(input_seq):\n",
        "    # Encode the input as state vectors.\n",
        "    states_value = encoder_model.predict(input_seq)\n",
        "\n",
        "    # Generate empty target sequence of length 1.\n",
        "    target_seq = np.zeros((1, 1, num_decoder_tokens))\n",
        "    # Populate the first character of target sequence with the start character.\n",
        "    target_seq[0, 0, target_token_index['\\t']] = 1.\n",
        "\n",
        "    # Sampling loop for a batch of sequences\n",
        "    # (to simplify, here we assume a batch of size 1).\n",
        "    stop_condition = False\n",
        "    decoded_sentence = ''\n",
        "    while not stop_condition:\n",
        "        output_tokens, h, c = decoder_model.predict(\n",
        "            [target_seq] + states_value)\n",
        "\n",
        "        # Sample a token\n",
        "        sampled_token_index = np.argmax(output_tokens[0, -1, :])\n",
        "        sampled_char = reverse_target_char_index[sampled_token_index]\n",
        "        decoded_sentence += sampled_char\n",
        "\n",
        "        # Exit condition: either hit max length\n",
        "        # or find stop character.\n",
        "        if (sampled_char == '\\n' or\n",
        "           len(decoded_sentence) > max_decoder_seq_length):\n",
        "            stop_condition = True\n",
        "\n",
        "        # Update the target sequence (of length 1).\n",
        "        target_seq = np.zeros((1, 1, num_decoder_tokens))\n",
        "        target_seq[0, 0, sampled_token_index] = 1.\n",
        "\n",
        "        # Update states\n",
        "        states_value = [h, c]\n",
        "\n",
        "    return decoded_sentence\n",
        "\n",
        "\n",
        "for seq_index in range(4):\n",
        "  input_seq = encoder_input_data[seq_index: seq_index + 1]\n",
        "  decoded_sentence = decode_sequence(input_seq)\n",
        "  print('-')\n",
        "  print('Input sentence:', input_texts[seq_index])\n",
        "  print('Decoded sentence:', decoded_sentence)"
      ],
      "metadata": {
        "id": "i1YbrEIQn3MF"
      },
      "execution_count": null,
      "outputs": []
    }
  ]
}